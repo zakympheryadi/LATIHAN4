{
 "cells": [
  {
   "cell_type": "code",
   "execution_count": 9,
   "id": "55b5b4b6",
   "metadata": {},
   "outputs": [
    {
     "name": "stdout",
     "output_type": "stream",
     "text": [
      "13\n",
      "7\n",
      "30\n",
      "3.3333333333333335\n",
      "1\n",
      "1000\n",
      "3\n"
     ]
    }
   ],
   "source": [
    "#perjumlahan\n",
    "\n",
    "a, b = 10,3\n",
    "\n",
    "print(a+b)\n",
    "\n",
    "#perkurangan\n",
    "print(a-b)\n",
    "\n",
    "#perkaliam\n",
    "print(a*b)\n",
    "\n",
    "#divisi\n",
    "print(a/b)\n",
    "\n",
    "#modulus\n",
    "print(a%b)\n",
    "\n",
    "#eksponen\n",
    "print(a**b)\n",
    "\n",
    "#florr division\n",
    "print(a//b)"
   ]
  },
  {
   "cell_type": "code",
   "execution_count": 12,
   "id": "2cc52df7",
   "metadata": {},
   "outputs": [
    {
     "name": "stdout",
     "output_type": "stream",
     "text": [
      "a = 10 ->  10\n",
      "a += 5 ->  10\n",
      "a -= 3 ->  7\n",
      "a *= 6 ->  42\n",
      "a /= 8 ->  5.25\n"
     ]
    }
   ],
   "source": [
    "a = 10\n",
    "print('a = 10 -> ', a)\n",
    "a + 5\n",
    "print('a += 5 -> ', a)\n",
    "a -= 3\n",
    "print('a -= 3 -> ', a)\n",
    "a *= 6\n",
    "print('a *= 6 -> ', a)\n",
    "a /= 8\n",
    "print('a /= 8 -> ', a)"
   ]
  },
  {
   "cell_type": "code",
   "execution_count": 13,
   "id": "d6f55e1f",
   "metadata": {},
   "outputs": [
    {
     "name": "stdout",
     "output_type": "stream",
     "text": [
      "55.0\n"
     ]
    }
   ],
   "source": [
    "print (2*3**3+10/10)"
   ]
  },
  {
   "cell_type": "code",
   "execution_count": 16,
   "id": "1cbe64ba",
   "metadata": {},
   "outputs": [
    {
     "name": "stdout",
     "output_type": "stream",
     "text": [
      "5 > 10 = False\n",
      "5 < 10 = True\n",
      "5 == 10 = False\n",
      "5 != 10 = True\n",
      "5 >= 10 = False\n",
      "5 <= 10 = True\n"
     ]
    }
   ],
   "source": [
    "#perbadingan \n",
    "a, b = 5, 10\n",
    "print(a, '>', b, '=', a > b)\n",
    "print(a, '<', b, '=', a < b)\n",
    "print(a, '==', b, '=', a == b)\n",
    "print(a, '!=', b, '=', a != b)\n",
    "print(a, '>=', b, '=', a >= b)\n",
    "print(a, '<=', b, '=', a <= b)\n",
    "\n"
   ]
  },
  {
   "cell_type": "code",
   "execution_count": 32,
   "id": "3a04e957",
   "metadata": {},
   "outputs": [
    {
     "name": "stdout",
     "output_type": "stream",
     "text": [
      "400<100= False\n",
      "10 x 2 = 20 True\n",
      "50>10= True\n",
      "50 x 2 != 100 True\n",
      "2 x 3 x 4 >= 24 True\n"
     ]
    }
   ],
   "source": [
    "#latihan 2 \n",
    "print('400<100=',400<100)\n",
    "print('10 x 2 = 20',10*2==20)\n",
    "print('50>10=',50>10)\n",
    "print('50 x 2 != 100',50*2 !=200)\n",
    "print('2 x 3 x 4 >= 24', 2*3*4 >= 24)"
   ]
  },
  {
   "cell_type": "code",
   "execution_count": 39,
   "id": "032ae3d4",
   "metadata": {},
   "outputs": [
    {
     "name": "stdout",
     "output_type": "stream",
     "text": [
      "nilai_1 dan nilai_2 = False\n"
     ]
    }
   ],
   "source": [
    "#operator logika \n",
    "\n",
    "a < 5 and b < 10\n",
    "nilai_1 = True \n",
    "nilai_2 = False \n",
    "nilai_3 = True\n",
    "print( \"nilai_1 dan nilai_2 = \" + str(nilai_1 and nilai_2))\n"
   ]
  },
  {
   "cell_type": "code",
   "execution_count": 44,
   "id": "7da7fdb0",
   "metadata": {},
   "outputs": [
    {
     "name": "stdout",
     "output_type": "stream",
     "text": [
      "murah dan diskon = True\n",
      "tidak murah = False\n"
     ]
    }
   ],
   "source": [
    "murah = True \n",
    "diskon = True \n",
    "tidak_murah = False \n",
    "print(\"murah dan diskon = \" + str(murah and diskon))\n",
    "print(\"tidak murah = \" + str(not murah and not diskon))"
   ]
  },
  {
   "cell_type": "code",
   "execution_count": 46,
   "id": "9f816f51",
   "metadata": {},
   "outputs": [
    {
     "name": "stdout",
     "output_type": "stream",
     "text": [
      "a is b: True\n",
      "a is not b: False\n",
      "list_a is list_b:  False\n",
      "list_a == nama_b:  True\n",
      "nama_a is nama_b:  True\n",
      "nama_a is not nama_b:  False\n"
     ]
    }
   ],
   "source": [
    "a = 5 \n",
    "b = 5\n",
    "list_a = [1, 2, 3]\n",
    "list_b = [1, 2, 3]\n",
    "nama_a = 'budi'\n",
    "nama_b = 'budi'\n",
    "\n",
    "# output True \n",
    "print('a is b:' ,a is b)\n",
    "# output False\n",
    "print('a is not b:', a is not b)\n",
    "\n",
    "# output False \n",
    "print('list_a is list_b: ',list_a is list_b)\n",
    "# output True\n",
    "print('list_a == nama_b: ',list_a == list_b)\n",
    "\n",
    "# output True \n",
    "print('nama_a is nama_b: ', nama_a is nama_b)\n",
    "#output False\n",
    "print('nama_a is not nama_b: ',nama_a is not nama_b)"
   ]
  },
  {
   "cell_type": "code",
   "execution_count": 48,
   "id": "20cbb542",
   "metadata": {},
   "outputs": [
    {
     "name": "stdout",
     "output_type": "stream",
     "text": [
      "bahasa_1 is bahasa_2: False\n"
     ]
    }
   ],
   "source": [
    "#example \n",
    "\n",
    "bahasa_1 = 'inggris'\n",
    "bahasa_2 = 'indonesia'\n",
    "\n",
    "#output False \n",
    "print('bahasa_1 is bahasa_2:', bahasa_1 is bahasa_2)"
   ]
  },
  {
   "cell_type": "code",
   "execution_count": 50,
   "id": "d8da3054",
   "metadata": {},
   "outputs": [
    {
     "name": "stdout",
     "output_type": "stream",
     "text": [
      "apakah 'c' ada di variavel perusahaan? True\n",
      "apakah 'z' tidak ada di variabel perusahaan? False\n"
     ]
    }
   ],
   "source": [
    "perusahaan = 'microsoft'\n",
    "list_pulau = ['jawa' , 'sumatra' , 'sulawesi']\n",
    "\n",
    "mahasiswa = {\n",
    "    'nama' : 'lendis febri',\n",
    "    'asal' : 'lamongan'\n",
    "}\n",
    "\n",
    "print(\n",
    "    \"apakah 'c' ada di variavel perusahaan?\",'c' in perusahaan)\n",
    "\n",
    "print(\n",
    "    \"apakah 'z' tidak ada di variabel perusahaan?\" ,'c' not in perusahaan)"
   ]
  },
  {
   "cell_type": "code",
   "execution_count": 53,
   "id": "069684c6",
   "metadata": {},
   "outputs": [
    {
     "name": "stdout",
     "output_type": "stream",
     "text": [
      "00000000\n",
      "00000001\n",
      "00000010\n",
      "00100101\n"
     ]
    }
   ],
   "source": [
    ">>> # biner dari angka 0\n",
    ">>> # biner dari angka 1\n",
    ">>> # biner dari angka 2\n",
    ">>> # biner dari angka 37\n",
    "\n",
    ">>> print(format(0, '08b'))\n",
    ">>> print(format(1, '08b'))\n",
    ">>> print(format(2, '08b'))\n",
    ">>> print(format(37, '08b'))"
   ]
  },
  {
   "cell_type": "code",
   "execution_count": 54,
   "id": "0a3e34a5",
   "metadata": {},
   "outputs": [
    {
     "name": "stdout",
     "output_type": "stream",
     "text": [
      "huruf h: 01101000\n",
      "huruf e: 01100101\n",
      "huruf l: 01101100\n",
      "huruf l: 01101100\n",
      "huruf o: 01101111\n"
     ]
    }
   ],
   "source": [
    "#latihan terakhir\n",
    "\n",
    "#biner dari angka 104\n",
    "print('huruf h:',format(104, '08b'))\n",
    "#biner dari angka 101\n",
    "print('huruf e:',format(101, '08b'))\n",
    "#biner dari angka 108\n",
    "print('huruf l:',format(108, '08b'))\n",
    "#biner dari angka 108\n",
    "print('huruf l:',format(108, '08b'))\n",
    "#biner dari angka 111\n",
    "print('huruf o:',format(111,'08b'))"
   ]
  },
  {
   "cell_type": "code",
   "execution_count": null,
   "id": "e1a2c740",
   "metadata": {},
   "outputs": [],
   "source": []
  }
 ],
 "metadata": {
  "kernelspec": {
   "display_name": "Python 3 (ipykernel)",
   "language": "python",
   "name": "python3"
  },
  "language_info": {
   "codemirror_mode": {
    "name": "ipython",
    "version": 3
   },
   "file_extension": ".py",
   "mimetype": "text/x-python",
   "name": "python",
   "nbconvert_exporter": "python",
   "pygments_lexer": "ipython3",
   "version": "3.9.12"
  }
 },
 "nbformat": 4,
 "nbformat_minor": 5
}
